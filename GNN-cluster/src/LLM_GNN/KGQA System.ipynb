{
 "cells": [
  {
   "cell_type": "markdown",
   "id": "4edfd7c9",
   "metadata": {},
   "source": [
    "Load environments"
   ]
  },
  {
   "cell_type": "code",
   "execution_count": 58,
   "id": "c2cbf596",
   "metadata": {},
   "outputs": [],
   "source": [
    "import sys\n",
    "sys.path.append('/home/svu/e0315913/.local/lib/python3.8/site-packages')\n",
    "sys.path.append('/home/svu/e0315913/.local/bin')\n",
    "sys.path.append(\"/hpctmp/e0315913/CS5284_Project/GNN-cluster\")\n",
    "\n",
    "import os\n",
    "os.chdir('/hpctmp/e0315913/CS5284_Project/GNN-cluster')"
   ]
  },
  {
   "cell_type": "markdown",
   "id": "098c7ec7",
   "metadata": {},
   "source": [
    "Import libraries"
   ]
  },
  {
   "cell_type": "code",
   "execution_count": 77,
   "id": "59c8c1e4",
   "metadata": {},
   "outputs": [],
   "source": [
    "import random, torch\n",
    "import numpy as np\n",
    "from torch.utils.data import DataLoader, Subset\n",
    "from tqdm import tqdm"
   ]
  },
  {
   "cell_type": "code",
   "execution_count": null,
   "id": "aa2e4e96",
   "metadata": {},
   "outputs": [],
   "source": [
    "from src.utils.config import load_config, validate_config\n",
    "from src.my_datasets.kgqa_dataset import KGQADataset\n",
    "from src.my_datasets.data_utils import collate_fn\n",
    "from src.models.rgcn_model import RGCNModel\n",
    "\n",
    "# for this purpose only\n",
    "from src.RAG.kgqa_extractor import extract_subgraph_qemb, load_all_metadata, load_subgraph_data"
   ]
  },
  {
   "cell_type": "markdown",
   "id": "61ca79a2",
   "metadata": {},
   "source": [
    "Set config and device"
   ]
  },
  {
   "cell_type": "code",
   "execution_count": null,
   "id": "f6c3b15e",
   "metadata": {},
   "outputs": [],
   "source": [
    "CONFIG_PATH = \"config/demo_config.yaml\"\n",
    "\n",
    "config = load_config(CONFIG_PATH)\n",
    "required_keys = [\n",
    "    'model','train', 'node_embed', 'idxes',\n",
    "    'train_qa_data', 'test_qa_data', 'num_hops',\n",
    "]\n",
    "validate_config(config, required_keys)"
   ]
  },
  {
   "cell_type": "code",
   "execution_count": null,
   "id": "f4bdf9fd",
   "metadata": {},
   "outputs": [
    {
     "data": {
      "text/plain": [
       "device(type='cuda')"
      ]
     },
     "execution_count": 62,
     "metadata": {},
     "output_type": "execute_result"
    }
   ],
   "source": [
    "torch.manual_seed(2024)\n",
    "random.seed(2024)\n",
    "np.random.seed(2024)\n",
    "\n",
    "# Set device\n",
    "device = torch.device(\"cuda\" if torch.cuda.is_available() else \"cpu\")"
   ]
  },
  {
   "cell_type": "code",
   "execution_count": null,
   "id": "1739670e",
   "metadata": {},
   "outputs": [],
   "source": []
  },
  {
   "cell_type": "markdown",
   "id": "c62e447d",
   "metadata": {},
   "source": [
    "Test 2"
   ]
  },
  {
   "cell_type": "code",
   "execution_count": null,
   "id": "c90a6e88",
   "metadata": {},
   "outputs": [],
   "source": [
    "train_dataset = KGQADataset(\n",
    "    path_to_node_embed=config['node_embed'],\n",
    "    path_to_idxes=config['idxes'],\n",
    "    path_to_qa=config['train_qa_data'],\n",
    "    path_to_kb=config['raw_kb'],\n",
    "    from_paths_activate=False,\n",
    "    entity_sbert=config['entity_sbert'],\n",
    "    k=config['num_hops']\n",
    ")\n",
    "num_relations = train_dataset.num_relations # extract the num_relation from the entire graph\n",
    "sub_train_dataset = Subset(train_dataset, list(range(config['train']['start_idx'],\n",
    "                                                     config['train']['end_idx'])))\n",
    "\n",
    "train_loader = DataLoader(\n",
    "    sub_train_dataset,\n",
    "    batch_size=config['train']['batch_size'],\n",
    "    collate_fn=collate_fn,\n",
    "    shuffle=True\n",
    ")"
   ]
  },
  {
   "cell_type": "code",
   "execution_count": null,
   "id": "abbc06d0",
   "metadata": {},
   "outputs": [],
   "source": [
    "model_test2 = RGCNModel(\n",
    "            node_dim=config['model']['in_channels'],\n",
    "            question_dim=train_dataset.q_embeddings.size(-1),\n",
    "            hidden_dim=config['model']['hidden_channels'],\n",
    "            num_relations=num_relations,\n",
    "            output_dim=config['model']['out_channels'],\n",
    "            num_rgcn=config['model']['num_layers'],\n",
    "            reduced_qn_dim=config['model']['reduced_qn_dim'],\n",
    "            reduced_node_dim=config['model']['reduced_node_dim'],\n",
    "            output_embedding=config['model']['output_embedding'],\n",
    "            use_residuals=config['model']['use_residuals']\n",
    "        )\n",
    "\n",
    "checkpoint = torch.load(config['model_path_test2'])\n",
    "model_test2.load_state_dict(checkpoint['model_state_dict'])\n",
    "model_test2 = model_test2.to(device)"
   ]
  },
  {
   "cell_type": "code",
   "execution_count": null,
   "metadata": {},
   "outputs": [],
   "source": []
  },
  {
   "cell_type": "code",
   "execution_count": null,
   "id": "a4eec86f",
   "metadata": {},
   "outputs": [],
   "source": [
    "equal_subgraph_weighting = config['train']['equal_subgraph_weighting']\n",
    "threshold_value = config['threshold_value']\n",
    "hits_at_k = config['train']['hits_at_k']\n",
    "\n",
    "save_all_path_test2 = config['save_all_path_test2']\n",
    "save_emb_path_test2 = config['save_emb_path_test2']"
   ]
  },
  {
   "cell_type": "code",
   "execution_count": null,
   "id": "3b1107f2",
   "metadata": {},
   "outputs": [],
   "source": [
    "extract_subgraph_qemb(train_loader, model_test2, device, threshold_value, save_all_path_test2, save_emb_path_test2)"
   ]
  },
  {
   "cell_type": "markdown",
   "id": "5364d29f",
   "metadata": {},
   "source": [
    "Test 8"
   ]
  },
  {
   "cell_type": "code",
   "execution_count": null,
   "id": "13fdbd24",
   "metadata": {},
   "outputs": [],
   "source": [
    "train_dataset = KGQADataset(\n",
    "    path_to_node_embed=config['node_embed'],\n",
    "    path_to_idxes=config['idxes'],\n",
    "    path_to_qa=config['train_qa_data'],\n",
    "    path_to_kb=config['raw_kb'],\n",
    "    from_paths_activate=config['from_paths_activate_test8'],\n",
    "    entity_sbert=config['entity_sbert'],\n",
    "    k=config['num_hops']\n",
    ")\n",
    "num_relations = train_dataset.num_relations # extract the num_relation from the entire graph\n",
    "sub_train_dataset = Subset(train_dataset, list(range(config['train']['start_idx'],\n",
    "                                                     config['train']['end_idx'])))\n",
    "\n",
    "train_loader = DataLoader(\n",
    "    sub_train_dataset,\n",
    "    batch_size=config['train']['batch_size'],\n",
    "    collate_fn=collate_fn,\n",
    "    shuffle=True\n",
    ")"
   ]
  },
  {
   "cell_type": "code",
   "execution_count": null,
   "id": "0fa3deff",
   "metadata": {},
   "outputs": [],
   "source": [
    "model_test8 = RGCNModel(\n",
    "            node_dim=config['model']['in_channels'],\n",
    "            question_dim=train_dataset.q_embeddings.size(-1),\n",
    "            hidden_dim=config['model']['hidden_channels'],\n",
    "            num_relations=num_relations,\n",
    "            output_dim=config['model']['out_channels'],\n",
    "            num_rgcn=config['model']['num_layers'],\n",
    "            reduced_qn_dim=config['model']['reduced_qn_dim'],\n",
    "            reduced_node_dim=config['model']['reduced_node_dim'],\n",
    "            output_embedding=config['model']['output_embedding'],\n",
    "            use_residuals=config['model']['use_residuals']\n",
    "        )\n",
    "\n",
    "checkpoint = torch.load(config['model_path_test8'])\n",
    "model_test8.load_state_dict(checkpoint['model_state_dict'])\n",
    "model_test8 = model_test8.to(device)"
   ]
  },
  {
   "cell_type": "code",
   "execution_count": null,
   "id": "5a9e8a0c",
   "metadata": {},
   "outputs": [],
   "source": [
    "equal_subgraph_weighting = config['train']['equal_subgraph_weighting']\n",
    "threshold_value = config['threshold_value']\n",
    "hits_at_k = config['train']['hits_at_k']\n",
    "\n",
    "save_all_path_test8 = config['save_all_path_test8']\n",
    "save_emb_path_test8 = config['save_emb_path_test8']\n"
   ]
  },
  {
   "cell_type": "code",
   "execution_count": null,
   "id": "7a229f71",
   "metadata": {},
   "outputs": [],
   "source": [
    "extract_subgraph_qemb(train_loader, model_test8, device, threshold_value, save_all_path_test8, save_emb_path_test8)"
   ]
  },
  {
   "cell_type": "markdown",
   "id": "74f2e20d",
   "metadata": {},
   "source": [
    "Loading Saved Embeddings"
   ]
  },
  {
   "cell_type": "code",
   "execution_count": null,
   "id": "ae5033e5",
   "metadata": {},
   "outputs": [],
   "source": [
    "# Test 02\n",
    "batched_subgraphs, original_graph_embeddings, question_embeddings, candidates_masks, similarity_scores, node_maps, labels = load_all_metadata(save_all_path_test2)\n",
    "#OR\n",
    "batched_subgraphs, original_graph_embeddings, question_embeddings = load_subgraph_data(save_emb_path_test2)"
   ]
  }
 ],
 "metadata": {
  "kernelspec": {
   "display_name": "Python 3 (ipykernel)",
   "language": "python",
   "name": "python3"
  },
  "language_info": {
   "codemirror_mode": {
    "name": "ipython",
    "version": 3
   },
   "file_extension": ".py",
   "mimetype": "text/x-python",
   "name": "python",
   "nbconvert_exporter": "python",
   "pygments_lexer": "ipython3",
   "version": "3.8.20"
  }
 },
 "nbformat": 4,
 "nbformat_minor": 5
}
