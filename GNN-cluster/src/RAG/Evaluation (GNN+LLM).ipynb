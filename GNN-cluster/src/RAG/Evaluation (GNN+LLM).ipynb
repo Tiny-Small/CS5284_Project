{
  "nbformat": 4,
  "nbformat_minor": 0,
  "metadata": {
    "colab": {
      "provenance": [],
      "gpuType": "T4"
    },
    "kernelspec": {
      "name": "python3",
      "display_name": "Python 3"
    },
    "language_info": {
      "name": "python"
    },
    "accelerator": "GPU"
  },
  "cells": [
    {
      "cell_type": "code",
      "source": [
        "%pip install huggingface_hub\n",
        "%pip install rouge_score bert_score sentence-transformers"
      ],
      "metadata": {
        "colab": {
          "base_uri": "https://localhost:8080/"
        },
        "id": "vhz0op_TbF-K",
        "outputId": "b5cddce0-1880-4385-d265-3262ab66b9ee"
      },
      "execution_count": 2,
      "outputs": [
        {
          "output_type": "stream",
          "name": "stdout",
          "text": [
            "Requirement already satisfied: huggingface_hub in /usr/local/lib/python3.10/dist-packages (0.26.2)\n",
            "Requirement already satisfied: filelock in /usr/local/lib/python3.10/dist-packages (from huggingface_hub) (3.16.1)\n",
            "Requirement already satisfied: fsspec>=2023.5.0 in /usr/local/lib/python3.10/dist-packages (from huggingface_hub) (2024.10.0)\n",
            "Requirement already satisfied: packaging>=20.9 in /usr/local/lib/python3.10/dist-packages (from huggingface_hub) (24.2)\n",
            "Requirement already satisfied: pyyaml>=5.1 in /usr/local/lib/python3.10/dist-packages (from huggingface_hub) (6.0.2)\n",
            "Requirement already satisfied: requests in /usr/local/lib/python3.10/dist-packages (from huggingface_hub) (2.32.3)\n",
            "Requirement already satisfied: tqdm>=4.42.1 in /usr/local/lib/python3.10/dist-packages (from huggingface_hub) (4.66.6)\n",
            "Requirement already satisfied: typing-extensions>=3.7.4.3 in /usr/local/lib/python3.10/dist-packages (from huggingface_hub) (4.12.2)\n",
            "Requirement already satisfied: charset-normalizer<4,>=2 in /usr/local/lib/python3.10/dist-packages (from requests->huggingface_hub) (3.4.0)\n",
            "Requirement already satisfied: idna<4,>=2.5 in /usr/local/lib/python3.10/dist-packages (from requests->huggingface_hub) (3.10)\n",
            "Requirement already satisfied: urllib3<3,>=1.21.1 in /usr/local/lib/python3.10/dist-packages (from requests->huggingface_hub) (2.2.3)\n",
            "Requirement already satisfied: certifi>=2017.4.17 in /usr/local/lib/python3.10/dist-packages (from requests->huggingface_hub) (2024.8.30)\n",
            "Collecting rouge_score\n",
            "  Downloading rouge_score-0.1.2.tar.gz (17 kB)\n",
            "  Preparing metadata (setup.py) ... \u001b[?25l\u001b[?25hdone\n",
            "Collecting bert_score\n",
            "  Downloading bert_score-0.3.13-py3-none-any.whl.metadata (15 kB)\n",
            "Requirement already satisfied: sentence-transformers in /usr/local/lib/python3.10/dist-packages (3.2.1)\n",
            "Requirement already satisfied: absl-py in /usr/local/lib/python3.10/dist-packages (from rouge_score) (1.4.0)\n",
            "Requirement already satisfied: nltk in /usr/local/lib/python3.10/dist-packages (from rouge_score) (3.9.1)\n",
            "Requirement already satisfied: numpy in /usr/local/lib/python3.10/dist-packages (from rouge_score) (1.26.4)\n",
            "Requirement already satisfied: six>=1.14.0 in /usr/local/lib/python3.10/dist-packages (from rouge_score) (1.16.0)\n",
            "Requirement already satisfied: torch>=1.0.0 in /usr/local/lib/python3.10/dist-packages (from bert_score) (2.5.1+cu121)\n",
            "Requirement already satisfied: pandas>=1.0.1 in /usr/local/lib/python3.10/dist-packages (from bert_score) (2.2.2)\n",
            "Requirement already satisfied: transformers>=3.0.0 in /usr/local/lib/python3.10/dist-packages (from bert_score) (4.46.2)\n",
            "Requirement already satisfied: requests in /usr/local/lib/python3.10/dist-packages (from bert_score) (2.32.3)\n",
            "Requirement already satisfied: tqdm>=4.31.1 in /usr/local/lib/python3.10/dist-packages (from bert_score) (4.66.6)\n",
            "Requirement already satisfied: matplotlib in /usr/local/lib/python3.10/dist-packages (from bert_score) (3.8.0)\n",
            "Requirement already satisfied: packaging>=20.9 in /usr/local/lib/python3.10/dist-packages (from bert_score) (24.2)\n",
            "Requirement already satisfied: scikit-learn in /usr/local/lib/python3.10/dist-packages (from sentence-transformers) (1.5.2)\n",
            "Requirement already satisfied: scipy in /usr/local/lib/python3.10/dist-packages (from sentence-transformers) (1.13.1)\n",
            "Requirement already satisfied: huggingface-hub>=0.20.0 in /usr/local/lib/python3.10/dist-packages (from sentence-transformers) (0.26.2)\n",
            "Requirement already satisfied: Pillow in /usr/local/lib/python3.10/dist-packages (from sentence-transformers) (11.0.0)\n",
            "Requirement already satisfied: filelock in /usr/local/lib/python3.10/dist-packages (from huggingface-hub>=0.20.0->sentence-transformers) (3.16.1)\n",
            "Requirement already satisfied: fsspec>=2023.5.0 in /usr/local/lib/python3.10/dist-packages (from huggingface-hub>=0.20.0->sentence-transformers) (2024.10.0)\n",
            "Requirement already satisfied: pyyaml>=5.1 in /usr/local/lib/python3.10/dist-packages (from huggingface-hub>=0.20.0->sentence-transformers) (6.0.2)\n",
            "Requirement already satisfied: typing-extensions>=3.7.4.3 in /usr/local/lib/python3.10/dist-packages (from huggingface-hub>=0.20.0->sentence-transformers) (4.12.2)\n",
            "Requirement already satisfied: python-dateutil>=2.8.2 in /usr/local/lib/python3.10/dist-packages (from pandas>=1.0.1->bert_score) (2.8.2)\n",
            "Requirement already satisfied: pytz>=2020.1 in /usr/local/lib/python3.10/dist-packages (from pandas>=1.0.1->bert_score) (2024.2)\n",
            "Requirement already satisfied: tzdata>=2022.7 in /usr/local/lib/python3.10/dist-packages (from pandas>=1.0.1->bert_score) (2024.2)\n",
            "Requirement already satisfied: networkx in /usr/local/lib/python3.10/dist-packages (from torch>=1.0.0->bert_score) (3.4.2)\n",
            "Requirement already satisfied: jinja2 in /usr/local/lib/python3.10/dist-packages (from torch>=1.0.0->bert_score) (3.1.4)\n",
            "Requirement already satisfied: sympy==1.13.1 in /usr/local/lib/python3.10/dist-packages (from torch>=1.0.0->bert_score) (1.13.1)\n",
            "Requirement already satisfied: mpmath<1.4,>=1.1.0 in /usr/local/lib/python3.10/dist-packages (from sympy==1.13.1->torch>=1.0.0->bert_score) (1.3.0)\n",
            "Requirement already satisfied: regex!=2019.12.17 in /usr/local/lib/python3.10/dist-packages (from transformers>=3.0.0->bert_score) (2024.9.11)\n",
            "Requirement already satisfied: safetensors>=0.4.1 in /usr/local/lib/python3.10/dist-packages (from transformers>=3.0.0->bert_score) (0.4.5)\n",
            "Requirement already satisfied: tokenizers<0.21,>=0.20 in /usr/local/lib/python3.10/dist-packages (from transformers>=3.0.0->bert_score) (0.20.3)\n",
            "Requirement already satisfied: contourpy>=1.0.1 in /usr/local/lib/python3.10/dist-packages (from matplotlib->bert_score) (1.3.1)\n",
            "Requirement already satisfied: cycler>=0.10 in /usr/local/lib/python3.10/dist-packages (from matplotlib->bert_score) (0.12.1)\n",
            "Requirement already satisfied: fonttools>=4.22.0 in /usr/local/lib/python3.10/dist-packages (from matplotlib->bert_score) (4.54.1)\n",
            "Requirement already satisfied: kiwisolver>=1.0.1 in /usr/local/lib/python3.10/dist-packages (from matplotlib->bert_score) (1.4.7)\n",
            "Requirement already satisfied: pyparsing>=2.3.1 in /usr/local/lib/python3.10/dist-packages (from matplotlib->bert_score) (3.2.0)\n",
            "Requirement already satisfied: click in /usr/local/lib/python3.10/dist-packages (from nltk->rouge_score) (8.1.7)\n",
            "Requirement already satisfied: joblib in /usr/local/lib/python3.10/dist-packages (from nltk->rouge_score) (1.4.2)\n",
            "Requirement already satisfied: charset-normalizer<4,>=2 in /usr/local/lib/python3.10/dist-packages (from requests->bert_score) (3.4.0)\n",
            "Requirement already satisfied: idna<4,>=2.5 in /usr/local/lib/python3.10/dist-packages (from requests->bert_score) (3.10)\n",
            "Requirement already satisfied: urllib3<3,>=1.21.1 in /usr/local/lib/python3.10/dist-packages (from requests->bert_score) (2.2.3)\n",
            "Requirement already satisfied: certifi>=2017.4.17 in /usr/local/lib/python3.10/dist-packages (from requests->bert_score) (2024.8.30)\n",
            "Requirement already satisfied: threadpoolctl>=3.1.0 in /usr/local/lib/python3.10/dist-packages (from scikit-learn->sentence-transformers) (3.5.0)\n",
            "Requirement already satisfied: MarkupSafe>=2.0 in /usr/local/lib/python3.10/dist-packages (from jinja2->torch>=1.0.0->bert_score) (3.0.2)\n",
            "Downloading bert_score-0.3.13-py3-none-any.whl (61 kB)\n",
            "\u001b[2K   \u001b[90m━━━━━━━━━━━━━━━━━━━━━━━━━━━━━━━━━━━━━━━━\u001b[0m \u001b[32m61.1/61.1 kB\u001b[0m \u001b[31m3.4 MB/s\u001b[0m eta \u001b[36m0:00:00\u001b[0m\n",
            "\u001b[?25hBuilding wheels for collected packages: rouge_score\n",
            "  Building wheel for rouge_score (setup.py) ... \u001b[?25l\u001b[?25hdone\n",
            "  Created wheel for rouge_score: filename=rouge_score-0.1.2-py3-none-any.whl size=24935 sha256=5980114e72a831316938ee628cce3c4e6bd4dbf2ecf3513060a77999383480ac\n",
            "  Stored in directory: /root/.cache/pip/wheels/5f/dd/89/461065a73be61a532ff8599a28e9beef17985c9e9c31e541b4\n",
            "Successfully built rouge_score\n",
            "Installing collected packages: rouge_score, bert_score\n",
            "Successfully installed bert_score-0.3.13 rouge_score-0.1.2\n"
          ]
        }
      ]
    },
    {
      "cell_type": "code",
      "source": [
        "from huggingface_hub import login\n",
        "login('your_token')\n"
      ],
      "metadata": {
        "id": "LuKGd2ocbInN"
      },
      "execution_count": 3,
      "outputs": []
    },
    {
      "cell_type": "code",
      "source": [
        "import torch\n",
        "import json\n",
        "import random\n",
        "\n",
        "SEED = 2024\n",
        "torch.manual_seed(SEED)\n",
        "random.seed(SEED)"
      ],
      "metadata": {
        "id": "VdPefX2_bJMk"
      },
      "execution_count": 4,
      "outputs": []
    },
    {
      "cell_type": "markdown",
      "source": [
        "# Evaluation Class"
      ],
      "metadata": {
        "id": "vC7prR4DbMlL"
      }
    },
    {
      "cell_type": "code",
      "source": [
        "import pandas as pd\n",
        "import nltk\n",
        "from nltk.translate.bleu_score import sentence_bleu, SmoothingFunction\n",
        "from rouge_score import rouge_scorer\n",
        "from bert_score import score as bertscore\n",
        "from sentence_transformers import SentenceTransformer, util\n",
        "from sklearn.metrics import precision_score, recall_score, f1_score"
      ],
      "metadata": {
        "id": "1OCL8lAGbMVu"
      },
      "execution_count": 5,
      "outputs": []
    },
    {
      "cell_type": "code",
      "source": [
        "nltk.download('punkt')\n",
        "nltk.download('punkt_tab')"
      ],
      "metadata": {
        "colab": {
          "base_uri": "https://localhost:8080/"
        },
        "id": "Y2xVLFTHbOem",
        "outputId": "7126a647-03c4-4884-a10b-cd7f29b63c7a"
      },
      "execution_count": 6,
      "outputs": [
        {
          "output_type": "stream",
          "name": "stderr",
          "text": [
            "[nltk_data] Downloading package punkt to /root/nltk_data...\n",
            "[nltk_data]   Unzipping tokenizers/punkt.zip.\n",
            "[nltk_data] Downloading package punkt_tab to /root/nltk_data...\n",
            "[nltk_data]   Unzipping tokenizers/punkt_tab.zip.\n"
          ]
        },
        {
          "output_type": "execute_result",
          "data": {
            "text/plain": [
              "True"
            ]
          },
          "metadata": {},
          "execution_count": 6
        }
      ]
    },
    {
      "cell_type": "code",
      "execution_count": 14,
      "metadata": {
        "id": "eMidI9-gsL8H"
      },
      "outputs": [],
      "source": [
        "class RAGEvaluateMetrics:\n",
        "    def __init__(self, references, candidates, sbert_path):\n",
        "        self.references = references\n",
        "        self.candidates = candidates\n",
        "        self.sbert_model = SentenceTransformer(sbert_path)\n",
        "\n",
        "    def compute_bleu(self):\n",
        "        \"\"\"\n",
        "        Compute BLEU precision for each sentence using sentence-level BLEU score.\n",
        "        \"\"\"\n",
        "        precisions = []\n",
        "        smooth = SmoothingFunction().method1\n",
        "\n",
        "        for ref, cand in zip(self.references, self.candidates):\n",
        "            reference_tokens = [nltk.word_tokenize(ref.lower())]\n",
        "            candidate_tokens = nltk.word_tokenize(cand.lower())\n",
        "\n",
        "            # BLEU Precision (BLEU uses n-gram overlap precision by default)\n",
        "            precision = sentence_bleu(reference_tokens, candidate_tokens, smoothing_function=smooth)\n",
        "            precisions.append(precision)\n",
        "\n",
        "        return sum(precisions) / len(precisions)\n",
        "\n",
        "    def compute_rouge_l(self):\n",
        "        \"\"\"\n",
        "        Compute ROUGE-L precision, recall, and F1.\n",
        "        \"\"\"\n",
        "        rouge = rouge_scorer.RougeScorer(['rougeL'], use_stemmer=True)\n",
        "        precisions, recalls, f1_scores = [], [], []\n",
        "\n",
        "        for ref, cand in zip(self.references, self.candidates):\n",
        "            scores = rouge.score(ref.lower(), cand.lower())\n",
        "            rouge_l = scores['rougeL']\n",
        "\n",
        "            precisions.append(rouge_l.precision)\n",
        "            recalls.append(rouge_l.recall)\n",
        "            f1_scores.append(rouge_l.fmeasure)\n",
        "\n",
        "        return sum(precisions) / len(precisions), sum(recalls) / len(recalls), sum(f1_scores) / len(f1_scores)\n",
        "\n",
        "    def compute_bertscore(self, lang=\"en\"):\n",
        "        \"\"\"\n",
        "        Compute BERTScore (Precision, Recall, and F1).\n",
        "        \"\"\"\n",
        "        P, R, F1 = bertscore(self.candidates, self.references, lang=lang, verbose=False) ###\n",
        "        return P.mean().item(), R.mean().item(), F1.mean().item()\n",
        "\n",
        "    def compute_sbert(self):\n",
        "        \"\"\"\n",
        "        Compute SBERT cosine similarity between reference and candidate sentences.\n",
        "        \"\"\"\n",
        "        # Encode reference and candidate sentences using SBERT\n",
        "        ref_embeddings = self.sbert_model.encode(self.references, convert_to_tensor=True)\n",
        "        cand_embeddings = self.sbert_model.encode(self.candidates, convert_to_tensor=True)\n",
        "\n",
        "        # Compute cosine similarity between each pair of reference and candidate\n",
        "        cosine_similarities = util.pytorch_cos_sim(ref_embeddings, cand_embeddings)\n",
        "\n",
        "        # Take the diagonal (similarity between ref[i] and cand[i])\n",
        "        diagonal_similarities = cosine_similarities.diagonal()\n",
        "\n",
        "        # Average similarity score\n",
        "        average_similarity = diagonal_similarities.mean().item()\n",
        "\n",
        "        return average_similarity\n",
        "\n",
        "    def evaluate(self):\n",
        "        \"\"\"\n",
        "        Run all evaluation metrics (BLEU, ROUGE-L, BERTScore) and return their results.\n",
        "        :return: Dictionary containing BLEU, ROUGE-L, and BERTScore results.\n",
        "        \"\"\"\n",
        "        results = {}\n",
        "\n",
        "        # Compute BLEU\n",
        "        bleu_p = self.compute_bleu()\n",
        "        results['BLEU'] = {\n",
        "            'Precision': bleu_p\n",
        "        }\n",
        "\n",
        "        # Compute ROUGE-L\n",
        "        rouge_p, rouge_r, rouge_f1 = self.compute_rouge_l()\n",
        "        results['ROUGE-L'] = {\n",
        "            'Precision': rouge_p,\n",
        "            'Recall': rouge_r,\n",
        "            'F1': rouge_f1\n",
        "        }\n",
        "\n",
        "        # Compute BERTScore\n",
        "        bert_p, bert_r, bert_f1 = self.compute_bertscore()\n",
        "        results['BERTScore'] = {\n",
        "            'Precision': bert_p,\n",
        "            'Recall': bert_r,\n",
        "            'F1': bert_f1\n",
        "        }\n",
        "\n",
        "        # Compute SBERT cosine similarity\n",
        "        sbert_similarity = self.compute_sbert()\n",
        "        results['SBERT'] = {\n",
        "            'Cosine Similarity': sbert_similarity\n",
        "        }\n",
        "\n",
        "        return results"
      ]
    },
    {
      "cell_type": "code",
      "source": [
        "with open(\"/content/references_candidates.json\", \"r\") as f:\n",
        "    data = json.load(f)\n",
        "\n",
        "references_list = data[\"references\"]\n",
        "candidates_list = data[\"candidates\"]"
      ],
      "metadata": {
        "id": "Be3p0KdqsNvX"
      },
      "execution_count": 23,
      "outputs": []
    },
    {
      "cell_type": "code",
      "source": [
        "evaluator = RAGEvaluateMetrics(references_list, candidates_list, \"sentence-transformers/multi-qa-MiniLM-L6-cos-v1\")\n",
        "results = evaluator.evaluate()\n",
        "print(results)"
      ],
      "metadata": {
        "colab": {
          "base_uri": "https://localhost:8080/"
        },
        "id": "VEtKefn1bdSD",
        "outputId": "49dc3f70-343e-4f1a-8dad-ba50ccc43bc9"
      },
      "execution_count": 26,
      "outputs": [
        {
          "output_type": "stream",
          "name": "stderr",
          "text": [
            "Some weights of RobertaModel were not initialized from the model checkpoint at roberta-large and are newly initialized: ['roberta.pooler.dense.bias', 'roberta.pooler.dense.weight']\n",
            "You should probably TRAIN this model on a down-stream task to be able to use it for predictions and inference.\n"
          ]
        },
        {
          "output_type": "stream",
          "name": "stdout",
          "text": [
            "{'BLEU': {'Precision': 0.4067465768082245}, 'ROUGE-L': {'Precision': 0.7059594799995719, 'Recall': 0.7059594799995719, 'F1': 0.7059594799995719}, 'BERTScore': {'Precision': 0.9580601453781128, 'Recall': 0.9522309303283691, 'F1': 0.9551219940185547}, 'SBERT': {'Cosine Similarity': 0.9596773982048035}}\n"
          ]
        }
      ]
    },
    {
      "cell_type": "code",
      "source": [
        "results['BLEU'][\"Precision\"]"
      ],
      "metadata": {
        "colab": {
          "base_uri": "https://localhost:8080/"
        },
        "id": "MNKOfQ_fbkbR",
        "outputId": "dabb9127-0256-4dc2-d7b0-59e493f4b187"
      },
      "execution_count": 27,
      "outputs": [
        {
          "output_type": "execute_result",
          "data": {
            "text/plain": [
              "0.4067465768082245"
            ]
          },
          "metadata": {},
          "execution_count": 27
        }
      ]
    },
    {
      "cell_type": "code",
      "source": [
        "results['ROUGE-L']['F1']"
      ],
      "metadata": {
        "colab": {
          "base_uri": "https://localhost:8080/"
        },
        "id": "pXq3JOaocJwf",
        "outputId": "b8c341f1-3926-49a6-fdb6-fb338220397d"
      },
      "execution_count": 28,
      "outputs": [
        {
          "output_type": "execute_result",
          "data": {
            "text/plain": [
              "0.7059594799995719"
            ]
          },
          "metadata": {},
          "execution_count": 28
        }
      ]
    },
    {
      "cell_type": "code",
      "source": [
        "results['SBERT']['Cosine Similarity']"
      ],
      "metadata": {
        "colab": {
          "base_uri": "https://localhost:8080/"
        },
        "id": "PnvfuUb3cOmy",
        "outputId": "566d3500-cb5b-4f80-d4ec-facdf10ba76c"
      },
      "execution_count": 29,
      "outputs": [
        {
          "output_type": "execute_result",
          "data": {
            "text/plain": [
              "0.9596773982048035"
            ]
          },
          "metadata": {},
          "execution_count": 29
        }
      ]
    }
  ]
}