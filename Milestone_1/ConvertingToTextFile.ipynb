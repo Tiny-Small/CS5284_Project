{
 "cells": [
  {
   "cell_type": "markdown",
   "metadata": {},
   "source": [
    "# Load dataset in Datasets folder"
   ]
  },
  {
   "cell_type": "code",
   "execution_count": 25,
   "metadata": {},
   "outputs": [],
   "source": [
    "from datasets import load_dataset\n",
    "\n",
    "cache_directory  = \"../Datasets\"\n",
    "\n",
    "# Now, load_dataset will use the specified cache directory\n",
    "# It will automatically download from huggingface if the data is not available locally.\n",
    "ds = load_dataset(\"microsoft/ms_marco\", \"v2.1\", cache_dir=cache_directory)"
   ]
  },
  {
   "cell_type": "markdown",
   "metadata": {},
   "source": [
    "## Examine data"
   ]
  },
  {
   "cell_type": "code",
   "execution_count": 31,
   "metadata": {},
   "outputs": [
    {
     "name": "stdout",
     "output_type": "stream",
     "text": [
      "dict_keys(['validation', 'train', 'test'])\n",
      "Dataset({\n",
      "    features: ['answers', 'passages', 'query', 'query_id', 'query_type', 'wellFormedAnswers'],\n",
      "    num_rows: 808731\n",
      "})\n",
      "Dataset({\n",
      "    features: ['answers', 'passages', 'query', 'query_id', 'query_type', 'wellFormedAnswers'],\n",
      "    num_rows: 101092\n",
      "})\n",
      "Dataset({\n",
      "    features: ['answers', 'passages', 'query', 'query_id', 'query_type', 'wellFormedAnswers'],\n",
      "    num_rows: 101093\n",
      "})\n"
     ]
    }
   ],
   "source": [
    "print(ds.keys())\n",
    "print(ds['train'])\n",
    "print(ds['test'])\n",
    "print(ds['validation'])\n",
    "\n",
    "data = ds['validation']"
   ]
  },
  {
   "cell_type": "markdown",
   "metadata": {},
   "source": [
    "## Preparation for conversion"
   ]
  },
  {
   "cell_type": "code",
   "execution_count": 60,
   "metadata": {},
   "outputs": [
    {
     "name": "stdout",
     "output_type": "stream",
     "text": [
      "['GraphRAG/input/dataset0.txt']\n"
     ]
    }
   ],
   "source": [
    "# Number of rows\n",
    "total_rows = len(data)  # Should be 808731\n",
    "\n",
    "n = 1 # Number of files. If d = 1, n=80 is the best split. Specifically, n*d >= 80 is best.\n",
    "\n",
    "d = 1000 # Scale down the number of data points (i.e. total_rows divided by d). It must be scaled down if not it will be too expensive in terms of time and money.\n",
    "\n",
    "# Calculate how many rows each file should contain\n",
    "rows_per_file = total_rows // (d*n)  # Floor division\n",
    "\n",
    "input_files_dir = \"GraphRAG/input/\"\n",
    "input_files = []\n",
    "\n",
    "for i in range(n):\n",
    "    input_files.append(f\"{input_files_dir}dataset{i}.txt\")\n",
    "\n",
    "print(input_files)"
   ]
  },
  {
   "cell_type": "markdown",
   "metadata": {},
   "source": [
    "## Conversion to .txt"
   ]
  },
  {
   "cell_type": "code",
   "execution_count": 61,
   "metadata": {},
   "outputs": [
    {
     "name": "stdout",
     "output_type": "stream",
     "text": [
      "number of rows converted: 101\n",
      "Data successfully split into 1 files!\n"
     ]
    }
   ],
   "source": [
    "# Open all files ahead of time\n",
    "files = [open(input_file, \"w\") for input_file in input_files]\n",
    "\n",
    "\n",
    "try:\n",
    "    # Iterate over the entire dataset row by row\n",
    "    for idx, row in enumerate(data):\n",
    "        # Determine which file to write to based on the row index\n",
    "        file_index = idx // rows_per_file  # Integer division to get the file index (0-3)\n",
    "\n",
    "        if idx > total_rows / d:\n",
    "            print(f\"number of rows converted: {idx-1}\")\n",
    "            break\n",
    "\n",
    "        # Ensure the last part takes the remaining rows\n",
    "        if file_index >= n:\n",
    "            file_index = n-1\n",
    "\n",
    "        # Write to the correct file\n",
    "        f = files[file_index]\n",
    "\n",
    "        # Extract the query, answers, and passages\n",
    "        query = row['query']\n",
    "        query_id = row['query_id']\n",
    "        query_type = row['query_type']\n",
    "        answers = row['answers']  # Answers\n",
    "        wf_answers = row['wellFormedAnswers']  # Well-formed Answers\n",
    "        passages = row['passages']  # Passages relevant to the query\n",
    "\n",
    "        # Structure: Query followed by answers and passages\n",
    "        f.write(f\"Query: {query}\\n\")\n",
    "        f.write(f\"Query_id: {query_id}\\n\")\n",
    "        f.write(f\"Query_type: {query_type}\\n\")\n",
    "        f.write(f\"Answers: {' | '.join(answers)}\\n\")\n",
    "        f.write(f\"Well_Formed_Answers: {' | '.join(wf_answers)}\\n\")\n",
    "\n",
    "        for p in passages:\n",
    "            # Convert all elements to string and join them\n",
    "            if p == 'passage_text':\n",
    "                f.write(f\"{p}: \" + ' '.join(map(str, passages[p])) + \"\\n\")\n",
    "            elif p == 'is_selected':\n",
    "                f.write(f\"{p}: \" + ', '.join(map(str, passages[p])) + \"\\n\")\n",
    "            elif p == 'url':\n",
    "                f.write(f\"{p}: \" + ', '.join(map(str, passages[p])) + \"\\n\")\n",
    "\n",
    "        f.write(\"\\n\" + \"-\"*10 + \"\\n\")  # Add a separator between entries\n",
    "finally:\n",
    "    # Close all files\n",
    "    for f in files:\n",
    "        f.close()\n",
    "\n",
    "print(f\"Data successfully split into {n} files!\")"
   ]
  },
  {
   "cell_type": "code",
   "execution_count": 65,
   "metadata": {},
   "outputs": [
    {
     "name": "stdout",
     "output_type": "stream",
     "text": [
      "Query: . what is a corporation?\n",
      "Query_id: 1102432\n",
      "Query_type: DESCRIPTION\n",
      "Answers: A corporation is a company or group of people authorized to act as a single entity and recognized as such in law.\n",
      "Well_Formed_Answers:\n",
      "is_selected: 0, 0, 0, 0, 0, 1, 0, 0, 0, 0\n",
      "passage_text: A company is incorporated in a specific nation, often within the bounds of a smaller subset of that nation, such as a state or province. The corporation is then governed by the laws of incorporation in that state. A corporation may issue stock, either private or public, or may be classified as a non-stock corporation. If stock is issued, the corporation will usually be governed by its shareholders, either directly or indirectly. Today, there is a growing community of more than 2,100 Certified B Corps from 50 countries and over 130 industries working together toward 1 unifying goal: to redefine success in business. Join the Movement Corporation definition, an association of individuals, created by law or under authority of law, having a continuous existence independent of the existences of its members, and powers and liabilities distinct from those of its members. See more. Examples of corporation in a Sentence. 1  He works as a consultant for several large corporations. 2  a substantial corporation that showed that he was a sucker for all-you-can-eat buffets. 1: a government-owned corporation (as a utility or railroad) engaged in a profit-making enterprise that may require the exercise of powers unique to government (as eminent domain) — called also government corporation, publicly held corporation McDonald's Corporation is one of the most recognizable corporations in the world. A corporation is a company or group of people authorized to act as a single entity (legally a person) and recognized as such in law. Early incorporated entities were established by charter (i.e. by an ad hoc act granted by a monarch or passed by a parliament or legislature). Corporations are owned by their stockholders (shareholders) who share in profits and losses generated through the firm's operations, and have three distinct characteristics (1) Legal existence: a firm can (like a person) buy, sell, own, enter into a contract, and sue other persons and firms, and be sued by them. An Association is an organized group of people who share in a common interest, activity, or purpose. 1  Start a business Plan your business. Create your business structure Types of business structures. 2  Change or update your business Add a new location to your existing business. Add an endorsement to your existing business. B Corp certification shines a light on the companies leading the global movement... LLCs offer greater flexibility when it comes to income taxes. 1  The owner or member of an LLC can have their income taxed in three ways: 2  A single owner LLC is treated as a Schedule C (sole proprietor) for tax purposes.\n",
      "url: http://www.wisegeek.com/what-is-a-corporation.htm, https://www.bcorporation.net/what-are-b-corps, http://www.dictionary.com/browse/corporation, https://www.merriam-webster.com/dictionary/corporation, https://www.merriam-webster.com/dictionary/corporation, https://en.wikipedia.org/wiki/Corporation, http://www.businessdictionary.com/definition/corporation.html, http://bls.dor.wa.gov/ownershipstructures.aspx, https://www.bcorporation.net/, http://www.investorwords.com/article/s-corporation-vs-llc.html\n",
      "\n",
      "----------\n"
     ]
    }
   ],
   "source": [
    "# Open the file in read mode\n",
    "input_file = \"GraphRAG/input/dataset0.txt\"\n",
    "\n",
    "# Open the file in read mode\n",
    "with open(input_file, 'r') as file:\n",
    "    # Read the first N lines (e.g., 5 lines)\n",
    "    for i in range(10):\n",
    "        print(file.readline().strip())\n"
   ]
  },
  {
   "cell_type": "code",
   "execution_count": 64,
   "metadata": {},
   "outputs": [
    {
     "data": {
      "text/plain": [
       "{'answers': ['No Answer Present.'],\n",
       " 'passages': {'is_selected': [0, 0, 0, 0, 0, 0, 0, 0, 0, 0],\n",
       "  'passage_text': [\"Average Administrative Assistant Salaries. The average salary for administrative assistant jobs is $39,000. Average administrative assistant salaries can vary greatly due to company, location, industry, experience and benefits.This salary was calculated using the average salary for all jobs with the term administrative assistant anywhere in the job listing.his free salary calculator uses salary data from millions of job listings indexed by Simply Hired's job search engine. The administrative assistant salary comparisons feature allows job seekers to get the information required to make important career decisions and negotiate salary ranges.\",\n",
       "   \"For retirement, eligibility is at age 62. If a person reaches age 62 in 2015, for example, then 2015 is the person's year of eligibility. We always index an individual's earnings to the average wage level two years prior to the year of first eligibility.Thus, for a person retiring at age 62 in 2015, we would index the person's earnings to the average wage index for 2013, or 44,888.16.o determine the national average wage index for 2013 at a level that is consistent with the national average wage indexing series for prior years, we multiply the 2012 national average wage index of 44,321.67 by the percentage change in average wages from 2012 to 2013 (based on our tabulated wage data).\",\n",
       "   'Washington (April), (p1.) Projected 2016 Salary Increases by Country and Historical TrendsAn analysis of early projections of 2016 salary increases across 56 countries is pro-vided in Table 1 to support businesses in next year’s salary increase budgeting.verall, global growth is projected to reach 3.5 percent and 3.8 percent in 2015 and 2016, respectively.” International Monetary Fund. 2015. World Economic Outlook: Uneven Growth – Short-and Long-Term Factors.',\n",
       "   'Planning Global Compensation Budgets for 2016 As 2016 global financial budgeting and compensation planning approaches, it is timely to support ERI readers with insight into compensation analytics by taking a look at predictions for the world economy and its effect on 2016 salary increase budgeting.verall, global growth is projected to reach 3.5 percent and 3.8 percent in 2015 and 2016, respectively.” International Monetary Fund. 2015. World Economic Outlook: Uneven Growth – Short-and Long-Term Factors.',\n",
       "   'The School Board approved the FY 2016 approved budget which includes a .62 percent cost of living adjustment and step increments.All eligible teacher and instructional assistant scale employees receive step increases at the beginning of their contract.All eligible unified scale employees receive step increases on their anniversary date. Employees can find their anniversary date in UConnect: under the My Job tab, “Next Anniversary Date” .ll eligible teacher and instructional assistant scale employees receive step increases at the beginning of their contract. All eligible unified scale employees receive step increases on their anniversary date. Employees can find their anniversary date in UConnect: under the My Job tab, “Next Anniversary Date” .',\n",
       "   'To determine the national average wage index for calendar year 2013, we multiplied the 2012 national average wage index of 44,321.67 by the percentage change in average wages from 2012 to 2013, as measured by annual wage data we tabulated.o determine the national average wage index for 2013 at a level that is consistent with the national average wage indexing series for prior years, we multiply the 2012 national average wage index of 44,321.67 by the percentage change in average wages from 2012 to 2013 (based on our tabulated wage data).',\n",
       "   'Timing is a key factor in your job search as well. Of course, people are hired or fired every single day of the year, and companies hold reviews all the time: at the end of the calendar year, end of the fiscal year, the anniversary of your … Read more...The 10 Most Searched Jobs.f course, people are hired or fired every single day of the year, and companies hold reviews all the time: at the end of the calendar year, end of the fiscal year, the anniversary of your … Read more...',\n",
       "   'To determine the national average wage index for 2013 at a level that is consistent with the national average wage indexing series for prior years, we multiply the 2012 national average wage index of 44,321.67 by the percentage change in average wages from 2012 to 2013 (based on our tabulated wage data).o determine the national average wage index for 2013 at a level that is consistent with the national average wage indexing series for prior years, we multiply the 2012 national average wage index of 44,321.67 by the percentage change in average wages from 2012 to 2013 (based on our tabulated wage data).',\n",
       "   'Salary Scale Renumbering. The Teacher and Instructional Assistant salary scales were adjusted to eliminate two step increases that each had a value of less than 1 percent. The old step 4 was eliminated and all higher steps have been renumbered.ll eligible teacher and instructional assistant scale employees receive step increases at the beginning of their contract. All eligible unified scale employees receive step increases on their anniversary date. Employees can find their anniversary date in UConnect: under the My Job tab, “Next Anniversary Date” .',\n",
       "   'All eligible employees will receive a salary increase; timing will vary based on their position and anniversary date: 1  Teacher and instructional assistant scale employees received their increase effective November 1, 2014.ll eligible teacher and instructional assistant scale employees receive step increases at the beginning of their contract. All eligible unified scale employees receive step increases on their anniversary date. Employees can find their anniversary date in UConnect: under the My Job tab, “Next Anniversary Date” .'],\n",
       "  'url': ['http://www.simplyhired.com/salaries-k-administrative-assistant-jobs.html',\n",
       "   'http://www.ssa.gov/OACT/COLA/AWI.html',\n",
       "   'http://downloads.erieri.com.s3.amazonaws.com/pdf/Planning_Global_Compensation_Budgets_For_2016_whitepaper.pdf',\n",
       "   'http://downloads.erieri.com.s3.amazonaws.com/pdf/Planning_Global_Compensation_Budgets_For_2016_whitepaper.pdf',\n",
       "   'http://www.fcps.edu/hr/salary/salaryscales.shtml',\n",
       "   'http://www.ssa.gov/OACT/COLA/AWI.html',\n",
       "   'http://www.salary.com/',\n",
       "   'http://www.ssa.gov/OACT/COLA/AWI.html',\n",
       "   'http://www.fcps.edu/hr/salary/salaryscales.shtml',\n",
       "   'http://www.fcps.edu/hr/salary/salaryscales.shtml']},\n",
       " 'query': 'average admin salary in hobart 2016',\n",
       " 'query_id': 30374,\n",
       " 'query_type': 'NUMERIC',\n",
       " 'wellFormedAnswers': []}"
      ]
     },
     "execution_count": 64,
     "metadata": {},
     "output_type": "execute_result"
    }
   ],
   "source": [
    "# For comparison with dataset0.txt\n",
    "data[101]"
   ]
  },
  {
   "cell_type": "code",
   "execution_count": null,
   "metadata": {},
   "outputs": [],
   "source": []
  }
 ],
 "metadata": {
  "kernelspec": {
   "display_name": "CS5284_Project",
   "language": "python",
   "name": "python3"
  },
  "language_info": {
   "codemirror_mode": {
    "name": "ipython",
    "version": 3
   },
   "file_extension": ".py",
   "mimetype": "text/x-python",
   "name": "python",
   "nbconvert_exporter": "python",
   "pygments_lexer": "ipython3",
   "version": "3.10.6"
  }
 },
 "nbformat": 4,
 "nbformat_minor": 2
}
