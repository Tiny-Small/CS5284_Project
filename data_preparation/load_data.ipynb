{
 "cells": [
  {
   "cell_type": "code",
   "execution_count": 6,
   "metadata": {},
   "outputs": [],
   "source": [
    "import torch\n",
    "from torch_geometric.data import Data\n",
    "import json"
   ]
  },
  {
   "cell_type": "markdown",
   "metadata": {},
   "source": [
    "# Create PyTorch Geometric Data object"
   ]
  },
  {
   "cell_type": "code",
   "execution_count": 7,
   "metadata": {},
   "outputs": [],
   "source": [
    "def create_data_object(edge_index, relations, entity_to_idx):\n",
    "    unique_relations = list(set(relations))\n",
    "    relation_mapping = {relation: index for index, relation in enumerate(unique_relations)}\n",
    "\n",
    "    edge_index = torch.tensor(edge_index).t().contiguous()\n",
    "    edge_attr = torch.tensor([relation_mapping[rel] for rel in relations])\n",
    "\n",
    "    return Data(edge_index=edge_index, edge_attr=edge_attr, num_nodes=len(entity_to_idx))\n",
    "\n",
    "\n",
    "def load_data_json(filename='../Datasets/MetaQA_dataset/processed/idxes.json'):\n",
    "    with open(filename, 'r') as f:\n",
    "        data = json.load(f)\n",
    "    return data['entity_to_idx'], data['edge_index'], data['relations']"
   ]
  },
  {
   "cell_type": "code",
   "execution_count": 8,
   "metadata": {},
   "outputs": [
    {
     "name": "stdout",
     "output_type": "stream",
     "text": [
      "Data(edge_index=[2, 133582], edge_attr=[133582], num_nodes=43234)\n"
     ]
    }
   ],
   "source": [
    "loaded_entity_to_idx, loaded_edge_index, loaded_relations = load_data_json() \n",
    "data = create_data_object(loaded_edge_index, loaded_relations, loaded_entity_to_idx)\n",
    "print(data)"
   ]
  }
 ],
 "metadata": {
  "kernelspec": {
   "display_name": "graph_proj",
   "language": "python",
   "name": "python3"
  },
  "language_info": {
   "codemirror_mode": {
    "name": "ipython",
    "version": 3
   },
   "file_extension": ".py",
   "mimetype": "text/x-python",
   "name": "python",
   "nbconvert_exporter": "python",
   "pygments_lexer": "ipython3",
   "version": "3.8.19"
  }
 },
 "nbformat": 4,
 "nbformat_minor": 2
}
