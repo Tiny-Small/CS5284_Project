{
 "cells": [
  {
   "cell_type": "code",
   "execution_count": 1,
   "metadata": {},
   "outputs": [],
   "source": [
    "import pandas as pd\n",
    "import json"
   ]
  },
  {
   "cell_type": "markdown",
   "metadata": {},
   "source": [
    "# Generate idxes"
   ]
  },
  {
   "cell_type": "code",
   "execution_count": 2,
   "metadata": {},
   "outputs": [],
   "source": [
    "def load_data(file_path):\n",
    "    df = pd.read_csv(file_path, sep='|', header=None, names=['entity1', 'relation', 'entity2'])\n",
    "    return df.drop_duplicates()\n",
    "\n",
    "def create_entity_to_idx(df):\n",
    "    entity_to_idx = {}\n",
    "    current_idx = 0\n",
    "\n",
    "    for _, row in df.iterrows():\n",
    "        entity1 = row['entity1']\n",
    "        entity2 = row['entity2']\n",
    "\n",
    "        if entity1 not in entity_to_idx:\n",
    "            entity_to_idx[entity1] = current_idx\n",
    "            current_idx += 1\n",
    "        if entity2 not in entity_to_idx:\n",
    "            entity_to_idx[entity2] = current_idx\n",
    "            current_idx += 1\n",
    "            \n",
    "    return entity_to_idx\n",
    "\n",
    "def create_edge_index_and_relations(df, entity_to_idx):\n",
    "    edge_index = []\n",
    "    relations = []\n",
    "\n",
    "    for _, row in df.iterrows():\n",
    "        entity1 = row['entity1']\n",
    "        relation = row['relation']\n",
    "        entity2 = row['entity2']\n",
    "        \n",
    "        node1 = entity_to_idx[entity1]\n",
    "        node2 = entity_to_idx[entity2]\n",
    "        \n",
    "        edge_index.append([node1, node2])\n",
    "        relations.append(relation)\n",
    "\n",
    "    return edge_index, relations\n",
    "\n",
    "\n",
    "def save_data_json(entity_to_idx, edge_index, relations, filename='../Datasets/MetaQA_dataset/processed/idxes.json'):\n",
    "    with open(filename, 'w') as f:\n",
    "        json.dump({\n",
    "            'entity_to_idx': entity_to_idx,\n",
    "            'edge_index': edge_index,\n",
    "            'relations': relations\n",
    "        }, f)"
   ]
  },
  {
   "cell_type": "code",
   "execution_count": 3,
   "metadata": {},
   "outputs": [],
   "source": [
    "path = '../Datasets/MetaQA_dataset/kb.txt'\n",
    "df_unique = load_data(path)\n",
    "    \n",
    "entity_to_idx = create_entity_to_idx(df_unique)\n",
    "edge_index, relations = create_edge_index_and_relations(df_unique, entity_to_idx)\n",
    "    \n",
    "save_data_json(entity_to_idx, edge_index, relations)"
   ]
  },
  {
   "cell_type": "code",
   "execution_count": null,
   "metadata": {},
   "outputs": [],
   "source": []
  }
 ],
 "metadata": {
  "kernelspec": {
   "display_name": "graph_proj",
   "language": "python",
   "name": "python3"
  },
  "language_info": {
   "codemirror_mode": {
    "name": "ipython",
    "version": 3
   },
   "file_extension": ".py",
   "mimetype": "text/x-python",
   "name": "python",
   "nbconvert_exporter": "python",
   "pygments_lexer": "ipython3",
   "version": "3.8.19"
  }
 },
 "nbformat": 4,
 "nbformat_minor": 2
}
