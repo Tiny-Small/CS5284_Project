{
 "cells": [
  {
   "cell_type": "code",
   "execution_count": 1,
   "metadata": {},
   "outputs": [],
   "source": [
    "import pandas as pd\n",
    "import networkx as nx\n",
    "import matplotlib.pyplot as plt\n",
    "from tqdm.notebook import tqdm\n",
    "from node2vec import Node2Vec"
   ]
  },
  {
   "cell_type": "markdown",
   "metadata": {},
   "source": [
    "# Load the KG"
   ]
  },
  {
   "cell_type": "code",
   "execution_count": 2,
   "metadata": {},
   "outputs": [
    {
     "data": {
      "text/html": [
       "<div>\n",
       "<style scoped>\n",
       "    .dataframe tbody tr th:only-of-type {\n",
       "        vertical-align: middle;\n",
       "    }\n",
       "\n",
       "    .dataframe tbody tr th {\n",
       "        vertical-align: top;\n",
       "    }\n",
       "\n",
       "    .dataframe thead th {\n",
       "        text-align: right;\n",
       "    }\n",
       "</style>\n",
       "<table border=\"1\" class=\"dataframe\">\n",
       "  <thead>\n",
       "    <tr style=\"text-align: right;\">\n",
       "      <th></th>\n",
       "      <th>entity1</th>\n",
       "      <th>relation</th>\n",
       "      <th>entity2</th>\n",
       "    </tr>\n",
       "  </thead>\n",
       "  <tbody>\n",
       "    <tr>\n",
       "      <th>0</th>\n",
       "      <td>Kismet</td>\n",
       "      <td>directed_by</td>\n",
       "      <td>William Dieterle</td>\n",
       "    </tr>\n",
       "    <tr>\n",
       "      <th>1</th>\n",
       "      <td>Kismet</td>\n",
       "      <td>written_by</td>\n",
       "      <td>Edward Knoblock</td>\n",
       "    </tr>\n",
       "    <tr>\n",
       "      <th>2</th>\n",
       "      <td>Kismet</td>\n",
       "      <td>starred_actors</td>\n",
       "      <td>Marlene Dietrich</td>\n",
       "    </tr>\n",
       "    <tr>\n",
       "      <th>3</th>\n",
       "      <td>Kismet</td>\n",
       "      <td>starred_actors</td>\n",
       "      <td>Edward Arnold</td>\n",
       "    </tr>\n",
       "    <tr>\n",
       "      <th>4</th>\n",
       "      <td>Kismet</td>\n",
       "      <td>starred_actors</td>\n",
       "      <td>Ronald Colman</td>\n",
       "    </tr>\n",
       "  </tbody>\n",
       "</table>\n",
       "</div>"
      ],
      "text/plain": [
       "  entity1        relation           entity2\n",
       "0  Kismet     directed_by  William Dieterle\n",
       "1  Kismet      written_by   Edward Knoblock\n",
       "2  Kismet  starred_actors  Marlene Dietrich\n",
       "3  Kismet  starred_actors     Edward Arnold\n",
       "4  Kismet  starred_actors     Ronald Colman"
      ]
     },
     "execution_count": 2,
     "metadata": {},
     "output_type": "execute_result"
    }
   ],
   "source": [
    "path = '../Datasets/MetaQA_dataset/'\n",
    "\n",
    "df = pd.read_csv(path+'kb.txt', sep='|', header=None, names=['entity1', 'relation', 'entity2'])\n",
    "df.head()"
   ]
  },
  {
   "cell_type": "code",
   "execution_count": 3,
   "metadata": {},
   "outputs": [
    {
     "data": {
      "text/plain": [
       "133582"
      ]
     },
     "execution_count": 3,
     "metadata": {},
     "output_type": "execute_result"
    }
   ],
   "source": [
    "df_unique = df.drop_duplicates()\n",
    "len(df_unique)"
   ]
  },
  {
   "cell_type": "markdown",
   "metadata": {},
   "source": [
    "Note: The NetworkX graph is constructed using edges only and does not account for nodes without links (as present in kb_entity_dict.txt). I'm assuming these isolated nodes do not provide useful embeddings based on graph topology."
   ]
  },
  {
   "cell_type": "code",
   "execution_count": 4,
   "metadata": {},
   "outputs": [],
   "source": [
    "# Use MultiGraph to allow multiple edges\n",
    "G = nx.from_pandas_edgelist(df_unique, source='entity1', target='entity2', edge_attr='relation', create_using=nx.MultiGraph())"
   ]
  },
  {
   "cell_type": "code",
   "execution_count": 5,
   "metadata": {},
   "outputs": [
    {
     "name": "stdout",
     "output_type": "stream",
     "text": [
      "Number of entities: 43234\n",
      "Number of edges: 133582\n",
      "Number of distinct relations: 9\n",
      "Distinct relations: {'starred_actors', 'has_genre', 'has_imdb_votes', 'written_by', 'has_imdb_rating', 'release_year', 'has_tags', 'in_language', 'directed_by'}\n"
     ]
    }
   ],
   "source": [
    "num_nodes = G.number_of_nodes()\n",
    "print(f\"Number of entities: {num_nodes}\")\n",
    "\n",
    "num_edges = G.number_of_edges()\n",
    "print(f\"Number of edges: {num_edges}\")\n",
    "\n",
    "distinct_relations = set(nx.get_edge_attributes(G, 'relation').values())\n",
    "print(f\"Number of distinct relations: {len(distinct_relations)}\")\n",
    "print(\"Distinct relations:\", distinct_relations)"
   ]
  },
  {
   "cell_type": "markdown",
   "metadata": {},
   "source": [
    "# Node2Vec Embeddings"
   ]
  },
  {
   "cell_type": "code",
   "execution_count": 6,
   "metadata": {},
   "outputs": [
    {
     "data": {
      "application/vnd.jupyter.widget-view+json": {
       "model_id": "9d71a4f171db47989d48cad6e6e023b4",
       "version_major": 2,
       "version_minor": 0
      },
      "text/plain": [
       "Computing transition probabilities:   0%|          | 0/43234 [00:00<?, ?it/s]"
      ]
     },
     "metadata": {},
     "output_type": "display_data"
    }
   ],
   "source": [
    "# Create Node2Vec model from the graph\n",
    "node2vec = Node2Vec(G, dimensions=64, walk_length=10, num_walks=100, workers=4)\n",
    "\n",
    "# Fit model to generate node embeddings\n",
    "model = node2vec.fit(window=10, min_count=1, batch_words=4)"
   ]
  },
  {
   "cell_type": "code",
   "execution_count": 7,
   "metadata": {},
   "outputs": [],
   "source": [
    "# Save embeddings for later use\n",
    "model.wv.save_word2vec_format('ud_node2vec_embeddings.txt')\n",
    "\n",
    "# Save model for later use\n",
    "model.save('ud_node2vec_model.model')"
   ]
  },
  {
   "cell_type": "markdown",
   "metadata": {},
   "source": [
    "# Load the saved model"
   ]
  },
  {
   "cell_type": "code",
   "execution_count": 8,
   "metadata": {},
   "outputs": [],
   "source": [
    "from gensim.models import Word2Vec"
   ]
  },
  {
   "cell_type": "code",
   "execution_count": 11,
   "metadata": {},
   "outputs": [],
   "source": [
    "# model = Word2Vec.load('ud_node2vec_model.model')\n",
    "model = Word2Vec.load('d_node2vec_model.model')"
   ]
  },
  {
   "cell_type": "code",
   "execution_count": 12,
   "metadata": {},
   "outputs": [
    {
     "data": {
      "text/plain": [
       "[('Dames', 0.9805895686149597),\n",
       " ('Swing Time', 0.9764919877052307),\n",
       " (\"It's a Great Feeling\", 0.9735110402107239),\n",
       " ('A Funny Thing Happened on the Way to the Forum', 0.9711706042289734),\n",
       " ('Bye Bye Birdie', 0.969506561756134),\n",
       " ('Mr. Blandings Builds His Dream House', 0.9674002528190613),\n",
       " ('The Band Wagon', 0.9672629237174988),\n",
       " ('Ruggles of Red Gap', 0.9665829539299011),\n",
       " ('Anchors Aweigh', 0.9660155177116394),\n",
       " ('My Favorite Brunette', 0.9654163718223572)]"
      ]
     },
     "execution_count": 12,
     "metadata": {},
     "output_type": "execute_result"
    }
   ],
   "source": [
    "# Look for most similar nodes\n",
    "query_node = 'Top Hat'\n",
    "model.wv.most_similar(query_node)"
   ]
  },
  {
   "cell_type": "markdown",
   "metadata": {},
   "source": [
    "# TO DO: \n",
    "# 1. Use embeddings to train model for QA\n",
    "# - need to extract keywords from the question"
   ]
  }
 ],
 "metadata": {
  "kernelspec": {
   "display_name": "graph_proj",
   "language": "python",
   "name": "python3"
  },
  "language_info": {
   "codemirror_mode": {
    "name": "ipython",
    "version": 3
   },
   "file_extension": ".py",
   "mimetype": "text/x-python",
   "name": "python",
   "nbconvert_exporter": "python",
   "pygments_lexer": "ipython3",
   "version": "3.8.19"
  }
 },
 "nbformat": 4,
 "nbformat_minor": 2
}
